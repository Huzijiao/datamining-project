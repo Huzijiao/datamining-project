{
 "cells": [
  {
   "cell_type": "markdown",
   "metadata": {},
   "source": [
    "# Lab2 数据清洗\n",
    "\n",
    "从各种渠道获得的源数据大多是“脏”数据，不符合人们的需求，如数据中含有唯一数据或重复数据、异常值数据（包含错误或存在偏离期望的异常值，如age=“-10”，明显是错误数据），以及数据不完整（如缺少属性值）等。而我们在使用数据的过程中对数据的要求是具有一致性、准确性、完整性、时效性、可信性、可解释性。"
   ]
  },
  {
   "cell_type": "markdown",
   "metadata": {},
   "source": [
    "## 2.0 导入数据"
   ]
  },
  {
   "cell_type": "code",
   "execution_count": 1,
   "metadata": {},
   "outputs": [
    {
     "data": {
      "text/html": [
       "<div>\n",
       "<style scoped>\n",
       "    .dataframe tbody tr th:only-of-type {\n",
       "        vertical-align: middle;\n",
       "    }\n",
       "\n",
       "    .dataframe tbody tr th {\n",
       "        vertical-align: top;\n",
       "    }\n",
       "\n",
       "    .dataframe thead th {\n",
       "        text-align: right;\n",
       "    }\n",
       "</style>\n",
       "<table border=\"1\" class=\"dataframe\">\n",
       "  <thead>\n",
       "    <tr style=\"text-align: right;\">\n",
       "      <th></th>\n",
       "      <th>action_type</th>\n",
       "      <th>combined_shot_type</th>\n",
       "      <th>game_event_id</th>\n",
       "      <th>game_id</th>\n",
       "      <th>lat</th>\n",
       "      <th>loc_x</th>\n",
       "      <th>loc_y</th>\n",
       "      <th>lon</th>\n",
       "      <th>minutes_remaining</th>\n",
       "      <th>period</th>\n",
       "      <th>...</th>\n",
       "      <th>shot_type</th>\n",
       "      <th>shot_zone_area</th>\n",
       "      <th>shot_zone_basic</th>\n",
       "      <th>shot_zone_range</th>\n",
       "      <th>team_id</th>\n",
       "      <th>team_name</th>\n",
       "      <th>game_date</th>\n",
       "      <th>matchup</th>\n",
       "      <th>opponent</th>\n",
       "      <th>shot_id</th>\n",
       "    </tr>\n",
       "  </thead>\n",
       "  <tbody>\n",
       "    <tr>\n",
       "      <th>0</th>\n",
       "      <td>Jump Shot</td>\n",
       "      <td>Jump Shot</td>\n",
       "      <td>10</td>\n",
       "      <td>20000012</td>\n",
       "      <td>33.9723</td>\n",
       "      <td>167</td>\n",
       "      <td>72</td>\n",
       "      <td>-118.1028</td>\n",
       "      <td>10</td>\n",
       "      <td>1</td>\n",
       "      <td>...</td>\n",
       "      <td>2PT Field Goal</td>\n",
       "      <td>Right Side(R)</td>\n",
       "      <td>Mid-Range</td>\n",
       "      <td>16-24 ft.</td>\n",
       "      <td>1610612747</td>\n",
       "      <td>Los Angeles Lakers</td>\n",
       "      <td>2000-10-31</td>\n",
       "      <td>LAL @ POR</td>\n",
       "      <td>POR</td>\n",
       "      <td>1</td>\n",
       "    </tr>\n",
       "    <tr>\n",
       "      <th>1</th>\n",
       "      <td>Jump Shot</td>\n",
       "      <td>Jump Shot</td>\n",
       "      <td>12</td>\n",
       "      <td>20000012</td>\n",
       "      <td>34.0443</td>\n",
       "      <td>-157</td>\n",
       "      <td>0</td>\n",
       "      <td>-118.4268</td>\n",
       "      <td>10</td>\n",
       "      <td>1</td>\n",
       "      <td>...</td>\n",
       "      <td>2PT Field Goal</td>\n",
       "      <td>Left Side(L)</td>\n",
       "      <td>Mid-Range</td>\n",
       "      <td>8-16 ft.</td>\n",
       "      <td>1610612747</td>\n",
       "      <td>Los Angeles Lakers</td>\n",
       "      <td>2000-10-31</td>\n",
       "      <td>LAL @ POR</td>\n",
       "      <td>POR</td>\n",
       "      <td>2</td>\n",
       "    </tr>\n",
       "    <tr>\n",
       "      <th>2</th>\n",
       "      <td>Jump Shot</td>\n",
       "      <td>Jump Shot</td>\n",
       "      <td>35</td>\n",
       "      <td>20000012</td>\n",
       "      <td>33.9093</td>\n",
       "      <td>-101</td>\n",
       "      <td>135</td>\n",
       "      <td>-118.3708</td>\n",
       "      <td>7</td>\n",
       "      <td>1</td>\n",
       "      <td>...</td>\n",
       "      <td>2PT Field Goal</td>\n",
       "      <td>Left Side Center(LC)</td>\n",
       "      <td>Mid-Range</td>\n",
       "      <td>16-24 ft.</td>\n",
       "      <td>1610612747</td>\n",
       "      <td>Los Angeles Lakers</td>\n",
       "      <td>2000-10-31</td>\n",
       "      <td>LAL @ POR</td>\n",
       "      <td>POR</td>\n",
       "      <td>3</td>\n",
       "    </tr>\n",
       "    <tr>\n",
       "      <th>3</th>\n",
       "      <td>Jump Shot</td>\n",
       "      <td>Jump Shot</td>\n",
       "      <td>43</td>\n",
       "      <td>20000012</td>\n",
       "      <td>33.8693</td>\n",
       "      <td>138</td>\n",
       "      <td>175</td>\n",
       "      <td>-118.1318</td>\n",
       "      <td>6</td>\n",
       "      <td>1</td>\n",
       "      <td>...</td>\n",
       "      <td>2PT Field Goal</td>\n",
       "      <td>Right Side Center(RC)</td>\n",
       "      <td>Mid-Range</td>\n",
       "      <td>16-24 ft.</td>\n",
       "      <td>1610612747</td>\n",
       "      <td>Los Angeles Lakers</td>\n",
       "      <td>2000-10-31</td>\n",
       "      <td>LAL @ POR</td>\n",
       "      <td>POR</td>\n",
       "      <td>4</td>\n",
       "    </tr>\n",
       "    <tr>\n",
       "      <th>4</th>\n",
       "      <td>Driving Dunk Shot</td>\n",
       "      <td>Dunk</td>\n",
       "      <td>155</td>\n",
       "      <td>20000012</td>\n",
       "      <td>34.0443</td>\n",
       "      <td>0</td>\n",
       "      <td>0</td>\n",
       "      <td>-118.2698</td>\n",
       "      <td>6</td>\n",
       "      <td>2</td>\n",
       "      <td>...</td>\n",
       "      <td>2PT Field Goal</td>\n",
       "      <td>Center(C)</td>\n",
       "      <td>Restricted Area</td>\n",
       "      <td>Less Than 8 ft.</td>\n",
       "      <td>1610612747</td>\n",
       "      <td>Los Angeles Lakers</td>\n",
       "      <td>2000-10-31</td>\n",
       "      <td>LAL @ POR</td>\n",
       "      <td>POR</td>\n",
       "      <td>5</td>\n",
       "    </tr>\n",
       "  </tbody>\n",
       "</table>\n",
       "<p>5 rows × 25 columns</p>\n",
       "</div>"
      ],
      "text/plain": [
       "         action_type combined_shot_type  game_event_id   game_id      lat  \\\n",
       "0          Jump Shot          Jump Shot             10  20000012  33.9723   \n",
       "1          Jump Shot          Jump Shot             12  20000012  34.0443   \n",
       "2          Jump Shot          Jump Shot             35  20000012  33.9093   \n",
       "3          Jump Shot          Jump Shot             43  20000012  33.8693   \n",
       "4  Driving Dunk Shot               Dunk            155  20000012  34.0443   \n",
       "\n",
       "   loc_x  loc_y       lon  minutes_remaining  period  ...       shot_type  \\\n",
       "0    167     72 -118.1028                 10       1  ...  2PT Field Goal   \n",
       "1   -157      0 -118.4268                 10       1  ...  2PT Field Goal   \n",
       "2   -101    135 -118.3708                  7       1  ...  2PT Field Goal   \n",
       "3    138    175 -118.1318                  6       1  ...  2PT Field Goal   \n",
       "4      0      0 -118.2698                  6       2  ...  2PT Field Goal   \n",
       "\n",
       "          shot_zone_area  shot_zone_basic  shot_zone_range     team_id  \\\n",
       "0          Right Side(R)        Mid-Range        16-24 ft.  1610612747   \n",
       "1           Left Side(L)        Mid-Range         8-16 ft.  1610612747   \n",
       "2   Left Side Center(LC)        Mid-Range        16-24 ft.  1610612747   \n",
       "3  Right Side Center(RC)        Mid-Range        16-24 ft.  1610612747   \n",
       "4              Center(C)  Restricted Area  Less Than 8 ft.  1610612747   \n",
       "\n",
       "            team_name   game_date    matchup opponent  shot_id  \n",
       "0  Los Angeles Lakers  2000-10-31  LAL @ POR      POR        1  \n",
       "1  Los Angeles Lakers  2000-10-31  LAL @ POR      POR        2  \n",
       "2  Los Angeles Lakers  2000-10-31  LAL @ POR      POR        3  \n",
       "3  Los Angeles Lakers  2000-10-31  LAL @ POR      POR        4  \n",
       "4  Los Angeles Lakers  2000-10-31  LAL @ POR      POR        5  \n",
       "\n",
       "[5 rows x 25 columns]"
      ]
     },
     "execution_count": 1,
     "metadata": {},
     "output_type": "execute_result"
    }
   ],
   "source": [
    "import pandas as pd \n",
    "import numpy as np \n",
    "from pandas import Series,DataFrame\n",
    "import matplotlib.pyplot as plt\n",
    "\n",
    "raw = pd.read_csv(\"data/kobe.csv\")\n",
    "raw.head()\n"
   ]
  },
  {
   "cell_type": "code",
   "execution_count": 2,
   "metadata": {},
   "outputs": [],
   "source": [
    "#删除对最终结果无影响的id特征\n",
    "drop_ids = ['game_event_id','game_id','team_id','shot_id']\n",
    "for feature in drop_ids:\n",
    "    raw = raw.drop(feature,axis = 1)"
   ]
  },
  {
   "cell_type": "code",
   "execution_count": 3,
   "metadata": {},
   "outputs": [],
   "source": [
    "#创建一个新的特征time_remaining，用于替代minutes_remaining和seconds_remaining\n",
    "\n",
    "raw['time_remaining'] = raw['minutes_remaining']*60 + raw['seconds_remaining']"
   ]
  },
  {
   "cell_type": "code",
   "execution_count": 4,
   "metadata": {},
   "outputs": [],
   "source": [
    "#删除minutes_remaining和seconds_remaining特征\n",
    "\n",
    "raw = raw.drop(['minutes_remaining','seconds_remaining'],axis = 1)"
   ]
  },
  {
   "cell_type": "code",
   "execution_count": 5,
   "metadata": {},
   "outputs": [
    {
     "data": {
      "text/plain": [
       "array(['2000-01', '2001-02', '2002-03', '2003-04', '2004-05', '2005-06',\n",
       "       '2006-07', '2007-08', '2008-09', '2009-10', '2010-11', '2011-12',\n",
       "       '2012-13', '2013-14', '2014-15', '2015-16', '1996-97', '1997-98',\n",
       "       '1998-99', '1999-00'], dtype=object)"
      ]
     },
     "execution_count": 5,
     "metadata": {},
     "output_type": "execute_result"
    }
   ],
   "source": [
    "raw['season'].unique()"
   ]
  },
  {
   "cell_type": "code",
   "execution_count": 6,
   "metadata": {},
   "outputs": [],
   "source": [
    "#将season数据处理为更简单易懂的格式\n",
    "raw['season'] = raw['season'].apply(lambda x:int(x.split('-')[1]))\n",
    "raw['season'].unique()\n",
    "raw['season']=raw['season'].astype('object')"
   ]
  },
  {
   "cell_type": "code",
   "execution_count": 7,
   "metadata": {},
   "outputs": [],
   "source": [
    "#lat,lon,loc_x,loc_y表达的是相同的含义，删除lat,lon特征\n",
    "raw = raw.drop(['lat','lon'],axis = 1)"
   ]
  },
  {
   "cell_type": "code",
   "execution_count": 8,
   "metadata": {},
   "outputs": [],
   "source": [
    "#action_type和combined_shot_type表达的含义相近，删除action_type\n",
    "raw = raw.drop(['action_type'],axis = 1)"
   ]
  },
  {
   "cell_type": "code",
   "execution_count": 9,
   "metadata": {},
   "outputs": [],
   "source": [
    "#shot_zone_area,shot_zone_basic,shot_zone_range表达的是相同的含义，保留一个\n",
    "raw = raw.drop(['shot_zone_basic','shot_zone_range'],axis = 1)"
   ]
  },
  {
   "cell_type": "code",
   "execution_count": 10,
   "metadata": {},
   "outputs": [],
   "source": [
    "#team_name和game_date对最终结果没有影响，删除这两个特征\n",
    "raw = raw.drop(['team_name','game_date'],axis = 1)"
   ]
  },
  {
   "cell_type": "code",
   "execution_count": 11,
   "metadata": {},
   "outputs": [],
   "source": [
    "#matchup和opponent表达的是相同的意思，保留opponent\n",
    "raw = raw.drop('matchup',axis = 1)"
   ]
  },
  {
   "cell_type": "code",
   "execution_count": 12,
   "metadata": {},
   "outputs": [
    {
     "name": "stdout",
     "output_type": "stream",
     "text": [
      "<class 'pandas.core.frame.DataFrame'>\n",
      "RangeIndex: 30697 entries, 0 to 30696\n",
      "Data columns (total 12 columns):\n",
      " #   Column              Non-Null Count  Dtype  \n",
      "---  ------              --------------  -----  \n",
      " 0   combined_shot_type  30697 non-null  object \n",
      " 1   loc_x               30697 non-null  int64  \n",
      " 2   loc_y               30697 non-null  int64  \n",
      " 3   period              30697 non-null  int64  \n",
      " 4   playoffs            30697 non-null  int64  \n",
      " 5   season              30697 non-null  object \n",
      " 6   shot_distance       30697 non-null  int64  \n",
      " 7   shot_made_flag      25697 non-null  float64\n",
      " 8   shot_type           30697 non-null  object \n",
      " 9   shot_zone_area      30697 non-null  object \n",
      " 10  opponent            30697 non-null  object \n",
      " 11  time_remaining      30697 non-null  int64  \n",
      "dtypes: float64(1), int64(6), object(5)\n",
      "memory usage: 2.8+ MB\n"
     ]
    }
   ],
   "source": [
    "#查看当前数据集的信息\n",
    "raw.info()"
   ]
  },
  {
   "cell_type": "markdown",
   "metadata": {},
   "source": [
    "## 2.1 缺失值处理\n",
    "缺失数据表示数据不完整，信息丢失，因而无法完成相关匹配和计算，如信息统计中年龄和性别丢失的情况。\n",
    "缺失数据的处理主要有4种方式：\n",
    "- 均值补差\n",
    "- 利用同类均值补差\n",
    "- 极大似然估计\n",
    "- 多重补差\n",
    "\n",
    "均值补差和利用同类均值补差是思维简单的处理方式，在实际中应用比较广泛。\n",
    "\n",
    "极大似然估计是在概率上用最大可能的方式处理数据的缺失问题，其存在局部极值而且收敛速度过慢，计算较为复杂等问题。\n",
    "\n",
    "多重补差是为每一个缺失值提供一个可能的替换值，以确保其无关性，构成替换阈，再根据其自由组合，从而对每一个替换结果进行总体预测，对结论进行总体评判。\n",
    "\n",
    "多重补差这种思想来源于贝叶斯极大似然法，但比该方法在预判性上产生更多的多元化操作。\n",
    "\n"
   ]
  },
  {
   "cell_type": "markdown",
   "metadata": {},
   "source": [
    "查看数据集存在缺失值的属性"
   ]
  },
  {
   "cell_type": "code",
   "execution_count": 13,
   "metadata": {},
   "outputs": [
    {
     "name": "stdout",
     "output_type": "stream",
     "text": [
      "Number of instances = 30697\n",
      "Number of attributes = 12\n",
      "Number of missing values:\n",
      "combined_shot_type       0\n",
      "loc_x                    0\n",
      "loc_y                    0\n",
      "period                   0\n",
      "playoffs                 0\n",
      "season                   0\n",
      "shot_distance            0\n",
      "shot_made_flag        5000\n",
      "shot_type                0\n",
      "shot_zone_area           0\n",
      "opponent                 0\n",
      "time_remaining           0\n",
      "dtype: int64\n"
     ]
    }
   ],
   "source": [
    "raw = raw.replace(\" \", np.nan)\n",
    "print('Number of instances = %d' % (raw.shape[0]))\n",
    "print('Number of attributes = %d' % (raw.shape[1]))\n",
    "print('Number of missing values:')\n",
    "print(raw.isnull().sum())"
   ]
  },
  {
   "cell_type": "markdown",
   "metadata": {},
   "source": [
    "我们发现存在缺失值的属性是shot_made_flag，由于这个属性显示的是是否成功投篮的关键信息，我们不能进行简单的填补，因此这里我们选择丢弃该属性"
   ]
  },
  {
   "cell_type": "code",
   "execution_count": 14,
   "metadata": {},
   "outputs": [
    {
     "name": "stdout",
     "output_type": "stream",
     "text": [
      "Number of rows in original data = 30697\n",
      "Number of rows after discarding missing values = 25697\n"
     ]
    }
   ],
   "source": [
    "print('Number of rows in original data = %d' % (raw.shape[0]))\n",
    "raw = raw.dropna()\n",
    "print('Number of rows after discarding missing values = %d' % (raw.shape[0]))"
   ]
  },
  {
   "cell_type": "markdown",
   "metadata": {},
   "source": [
    "## 2.2 异常值识别和处理\n",
    "\n"
   ]
  },
  {
   "cell_type": "code",
   "execution_count": 15,
   "metadata": {},
   "outputs": [
    {
     "data": {
      "image/png": "[encoded data removed]",
      "text/plain": [
       "<Figure size 1440x1080 with 9 Axes>"
      ]
     },
     "metadata": {
      "needs_background": "light"
     },
     "output_type": "display_data"
    }
   ],
   "source": [
    "raw.hist(bins=50, figsize=(20,15))\n",
    "plt.show()"
   ]
  },
  {
   "cell_type": "code",
   "execution_count": 16,
   "metadata": {},
   "outputs": [
    {
     "data": {
      "text/plain": [
       "<AxesSubplot:>"
      ]
     },
     "execution_count": 16,
     "metadata": {},
     "output_type": "execute_result"
    },
    {
     "data": {
      "image/png": "[encoded data removed]",
      "text/plain": [
       "<Figure size 1440x360 with 1 Axes>"
      ]
     },
     "metadata": {
      "needs_background": "light"
     },
     "output_type": "display_data"
    }
   ],
   "source": [
    "%matplotlib inline\n",
    "#查看箱线图\n",
    "data4 = raw.loc[:,['loc_x','loc_y','period','playoffs','season','shot_distance','shot_made_flag','time_remaining']]\n",
    "data4.plot(kind='box',figsize=(20,5),grid=True)\n"
   ]
  },
  {
   "cell_type": "markdown",
   "metadata": {},
   "source": [
    "为了丢弃异常值，我们可以计算每个属性的Z值，并删除那些包含异常高或低Z值属性的实例(例如，如果Z > 3或Z <= -3)\n",
    "\n",
    "z-score 的计算定义如下：\n",
    "\n",
    "$z =（x-μ）/σ$\n",
    "\n",
    "这里的 x 为原始分值，z 为经过转换后的 z-score，μ 为总体样本空间的分值均值，σ 则为总体样本空间的标准差。"
   ]
  },
  {
   "cell_type": "markdown",
   "metadata": {},
   "source": [
    "这里我们去除 Z > 3 或者 Z <= -3的属性值，行数由原来的25697减少为23612条。"
   ]
  },
  {
   "cell_type": "code",
   "execution_count": 17,
   "metadata": {},
   "outputs": [],
   "source": [
    "# # 共有8个数值类属性\n",
    "# print('Number of rows before discarding outliers = %d' % (raw.shape[0]))\n",
    "# numerical_features = ['loc_x','loc_y','period','playoffs','season','shot_distance','shot_made_flag','time_remaining']\n",
    "# data=raw.copy()\n",
    "# for fea in numerical_features:\n",
    "#     data_mean = data[fea].mean()\n",
    "#     data_std = data[fea].std()\n",
    "#     low = data_mean - 3 * data_std\n",
    "#     up = data_mean + 3 * data_std\n",
    "#     data[fea + '_outliers'] = data[fea].apply(lambda x: 0 if (x > low and x < up) else 1)  # 标记离群值\n",
    "#     data = data[data[fea + '_outliers'] == 0]  # 过滤掉值为 1的行\n",
    "#     data.drop([fea + '_outliers'], axis=1, inplace=True)  # 移除临时特征\n",
    "# print('Number of attributes = %d' % (data.shape[1]))\n",
    "# print('Number of rows after discarding outliers = %d' % (data.shape[0]))\n"
   ]
  },
  {
   "cell_type": "markdown",
   "metadata": {},
   "source": [
    "## 2.3 数据去重\n",
    "重复数据指多次出现的数据。若重复数据在整体样本中所占权重比其他数据大，容易导致结果的倾向性，因此对于重复数据常用的预处理方法是剔除，或者按比例降低其权重，进行数据的重新布局，形成概率分布。\n",
    "- 对于一般数量可控的重复数据，通常采用的方法是简单的比较算法剔除。\n",
    "- 对于重复的可控数据而言，一般通过代码实现对信息的匹配比较，进而确定剔除不需要的数据。\n"
   ]
  },
  {
   "cell_type": "code",
   "execution_count": 18,
   "metadata": {},
   "outputs": [
    {
     "name": "stdout",
     "output_type": "stream",
     "text": [
      "Number of duplicate rows = 3\n",
      "Number of rows before discarding duplicates = 25697\n",
      "Number of rows after discarding duplicates = 25694\n"
     ]
    }
   ],
   "source": [
    "data=raw.copy()\n",
    "dups = data.duplicated()\n",
    "print('Number of duplicate rows = %d' % (dups.sum()))\n",
    "print('Number of rows before discarding duplicates = %d' % (data.shape[0]))\n",
    "data_final = data.drop_duplicates()\n",
    "print('Number of rows after discarding duplicates = %d' % (data_final.shape[0]))"
   ]
  },
  {
   "cell_type": "markdown",
   "metadata": {},
   "source": [
    "## 2.4 噪音识别和处理\n",
    "\n",
    "噪声是指被观测的变量的随机误差或方差。\n",
    "\n",
    "- 分箱技术\n",
    "通过考察相邻数据来确定最终值，可以实现异常或者噪声数据的平滑处理。基本思想是按照属性值划分子区间，如果属性值属于某个子区间，就称将其放入该子区间对应“箱子”内，即为分箱操作。箱的深度表示箱中所含数据记录条数，宽度则是对应属性值的取值范围。\n",
    "- 聚类技术\n",
    "将数据集合分组为由类似的数据组成的多个簇（或称为类）。聚类技术主要用于找出并清除那些落在簇之外的值（孤立点）。\n",
    "- 回归技术\n",
    "回归技术是通过发现两个相关的变量之间的关系，寻找适合的两个变量之间的映射关系来平滑数据，即通过建立数学模型来预测下一个数值，包括线性回归和非线性回归。\n",
    "\n",
    "时间序列中的噪声元素可能会导致严重问题，我们用时间序列数据集来展示如何去噪。\n"
   ]
  },
  {
   "cell_type": "code",
   "execution_count": 19,
   "metadata": {},
   "outputs": [],
   "source": [
    "# import requests\n",
    "# import io\n",
    "# import numpy as np\n",
    "\n",
    "# daily = pd.read_csv(\"../data/DTW_prec.csv\")\n",
    "# daily.index = pd.to_datetime(daily['DATE'])\n",
    "# # print(daily.columns)\n",
    "# # print(daily.index)\n",
    "# # daily = daily['PRCP']\n",
    "# # print(daily.index)\n",
    "# ax = daily.plot(kind='line',figsize=(15,3))\n",
    "# xxx=np.array(daily.values)\n",
    "# ax.set_title('Daily Precipitation (variance = %.4f)' % (daily.var()))\n"
   ]
  },
  {
   "cell_type": "markdown",
   "metadata": {},
   "source": [
    "滚动平均值\n",
    "\n",
    "滚动平均值是先前观察窗口的平均值，其中窗口是来自时间序列数据的一系列值。为每个有序窗口计算平均值。这可以极大地帮助小化时间序列数据中的噪声。"
   ]
  },
  {
   "cell_type": "code",
   "execution_count": 20,
   "metadata": {},
   "outputs": [],
   "source": [
    "# import matplotlib.pyplot as plt\n",
    "# rolling_PRCP = daily['PRCP'].rolling(20).mean()\n",
    "# plt.figure(figsize=(24,6))\n",
    "# plt.plot(daily['DATE'], daily['PRCP'])\n",
    "# plt.plot(daily['DATE'], rolling_PRCP)\n",
    "# plt.xlabel('DATE')\n",
    "# plt.ylabel('PRCP')\n",
    "# plt.legend(['PRCP','Rolling Mean'])\n",
    "# plt.show()"
   ]
  },
  {
   "cell_type": "markdown",
   "metadata": {},
   "source": [
    "## 独热编码\n",
    "\n"
   ]
  },
  {
   "cell_type": "code",
   "execution_count": 21,
   "metadata": {},
   "outputs": [
    {
     "data": {
      "text/html": [
       "<div>\n",
       "<style scoped>\n",
       "    .dataframe tbody tr th:only-of-type {\n",
       "        vertical-align: middle;\n",
       "    }\n",
       "\n",
       "    .dataframe tbody tr th {\n",
       "        vertical-align: top;\n",
       "    }\n",
       "\n",
       "    .dataframe thead th {\n",
       "        text-align: right;\n",
       "    }\n",
       "</style>\n",
       "<table border=\"1\" class=\"dataframe\">\n",
       "  <thead>\n",
       "    <tr style=\"text-align: right;\">\n",
       "      <th></th>\n",
       "      <th>loc_x</th>\n",
       "      <th>loc_y</th>\n",
       "      <th>period</th>\n",
       "      <th>playoffs</th>\n",
       "      <th>shot_distance</th>\n",
       "      <th>shot_made_flag</th>\n",
       "      <th>time_remaining</th>\n",
       "      <th>combined_shot_type_Bank Shot</th>\n",
       "      <th>combined_shot_type_Dunk</th>\n",
       "      <th>combined_shot_type_Hook Shot</th>\n",
       "      <th>...</th>\n",
       "      <th>opponent_PHI</th>\n",
       "      <th>opponent_PHX</th>\n",
       "      <th>opponent_POR</th>\n",
       "      <th>opponent_SAC</th>\n",
       "      <th>opponent_SAS</th>\n",
       "      <th>opponent_SEA</th>\n",
       "      <th>opponent_TOR</th>\n",
       "      <th>opponent_UTA</th>\n",
       "      <th>opponent_VAN</th>\n",
       "      <th>opponent_WAS</th>\n",
       "    </tr>\n",
       "  </thead>\n",
       "  <tbody>\n",
       "    <tr>\n",
       "      <th>1</th>\n",
       "      <td>-157</td>\n",
       "      <td>0</td>\n",
       "      <td>1</td>\n",
       "      <td>0</td>\n",
       "      <td>15</td>\n",
       "      <td>0.0</td>\n",
       "      <td>622</td>\n",
       "      <td>0</td>\n",
       "      <td>0</td>\n",
       "      <td>0</td>\n",
       "      <td>...</td>\n",
       "      <td>0</td>\n",
       "      <td>0</td>\n",
       "      <td>1</td>\n",
       "      <td>0</td>\n",
       "      <td>0</td>\n",
       "      <td>0</td>\n",
       "      <td>0</td>\n",
       "      <td>0</td>\n",
       "      <td>0</td>\n",
       "      <td>0</td>\n",
       "    </tr>\n",
       "    <tr>\n",
       "      <th>2</th>\n",
       "      <td>-101</td>\n",
       "      <td>135</td>\n",
       "      <td>1</td>\n",
       "      <td>0</td>\n",
       "      <td>16</td>\n",
       "      <td>1.0</td>\n",
       "      <td>465</td>\n",
       "      <td>0</td>\n",
       "      <td>0</td>\n",
       "      <td>0</td>\n",
       "      <td>...</td>\n",
       "      <td>0</td>\n",
       "      <td>0</td>\n",
       "      <td>1</td>\n",
       "      <td>0</td>\n",
       "      <td>0</td>\n",
       "      <td>0</td>\n",
       "      <td>0</td>\n",
       "      <td>0</td>\n",
       "      <td>0</td>\n",
       "      <td>0</td>\n",
       "    </tr>\n",
       "    <tr>\n",
       "      <th>3</th>\n",
       "      <td>138</td>\n",
       "      <td>175</td>\n",
       "      <td>1</td>\n",
       "      <td>0</td>\n",
       "      <td>22</td>\n",
       "      <td>0.0</td>\n",
       "      <td>412</td>\n",
       "      <td>0</td>\n",
       "      <td>0</td>\n",
       "      <td>0</td>\n",
       "      <td>...</td>\n",
       "      <td>0</td>\n",
       "      <td>0</td>\n",
       "      <td>1</td>\n",
       "      <td>0</td>\n",
       "      <td>0</td>\n",
       "      <td>0</td>\n",
       "      <td>0</td>\n",
       "      <td>0</td>\n",
       "      <td>0</td>\n",
       "      <td>0</td>\n",
       "    </tr>\n",
       "    <tr>\n",
       "      <th>4</th>\n",
       "      <td>0</td>\n",
       "      <td>0</td>\n",
       "      <td>2</td>\n",
       "      <td>0</td>\n",
       "      <td>0</td>\n",
       "      <td>1.0</td>\n",
       "      <td>379</td>\n",
       "      <td>0</td>\n",
       "      <td>1</td>\n",
       "      <td>0</td>\n",
       "      <td>...</td>\n",
       "      <td>0</td>\n",
       "      <td>0</td>\n",
       "      <td>1</td>\n",
       "      <td>0</td>\n",
       "      <td>0</td>\n",
       "      <td>0</td>\n",
       "      <td>0</td>\n",
       "      <td>0</td>\n",
       "      <td>0</td>\n",
       "      <td>0</td>\n",
       "    </tr>\n",
       "    <tr>\n",
       "      <th>5</th>\n",
       "      <td>-145</td>\n",
       "      <td>-11</td>\n",
       "      <td>3</td>\n",
       "      <td>0</td>\n",
       "      <td>14</td>\n",
       "      <td>0.0</td>\n",
       "      <td>572</td>\n",
       "      <td>0</td>\n",
       "      <td>0</td>\n",
       "      <td>0</td>\n",
       "      <td>...</td>\n",
       "      <td>0</td>\n",
       "      <td>0</td>\n",
       "      <td>1</td>\n",
       "      <td>0</td>\n",
       "      <td>0</td>\n",
       "      <td>0</td>\n",
       "      <td>0</td>\n",
       "      <td>0</td>\n",
       "      <td>0</td>\n",
       "      <td>0</td>\n",
       "    </tr>\n",
       "  </tbody>\n",
       "</table>\n",
       "<p>5 rows × 74 columns</p>\n",
       "</div>"
      ],
      "text/plain": [
       "   loc_x  loc_y  period  playoffs  shot_distance  shot_made_flag  \\\n",
       "1   -157      0       1         0             15             0.0   \n",
       "2   -101    135       1         0             16             1.0   \n",
       "3    138    175       1         0             22             0.0   \n",
       "4      0      0       2         0              0             1.0   \n",
       "5   -145    -11       3         0             14             0.0   \n",
       "\n",
       "   time_remaining  combined_shot_type_Bank Shot  combined_shot_type_Dunk  \\\n",
       "1             622                             0                        0   \n",
       "2             465                             0                        0   \n",
       "3             412                             0                        0   \n",
       "4             379                             0                        1   \n",
       "5             572                             0                        0   \n",
       "\n",
       "   combined_shot_type_Hook Shot  ...  opponent_PHI  opponent_PHX  \\\n",
       "1                             0  ...             0             0   \n",
       "2                             0  ...             0             0   \n",
       "3                             0  ...             0             0   \n",
       "4                             0  ...             0             0   \n",
       "5                             0  ...             0             0   \n",
       "\n",
       "   opponent_POR  opponent_SAC  opponent_SAS  opponent_SEA  opponent_TOR  \\\n",
       "1             1             0             0             0             0   \n",
       "2             1             0             0             0             0   \n",
       "3             1             0             0             0             0   \n",
       "4             1             0             0             0             0   \n",
       "5             1             0             0             0             0   \n",
       "\n",
       "   opponent_UTA  opponent_VAN  opponent_WAS  \n",
       "1             0             0             0  \n",
       "2             0             0             0  \n",
       "3             0             0             0  \n",
       "4             0             0             0  \n",
       "5             0             0             0  \n",
       "\n",
       "[5 rows x 74 columns]"
      ]
     },
     "execution_count": 21,
     "metadata": {},
     "output_type": "execute_result"
    }
   ],
   "source": [
    "data = pd.get_dummies(data_final)\n",
    "data.head()"
   ]
  },
  {
   "cell_type": "markdown",
   "metadata": {},
   "source": [
    "\n",
    "## 主成分分析\n",
    "\n",
    "原理：主成分分析(PCA)是一种通过将数据从原来的高维空间投影到低维空间来减少数据中属性数量的经典方法。 \n",
    "由PCA创建的新属性(也称为分量)具有以下属性:\n",
    "\n",
    "(1)它们是原始属性的线性组合\n",
    "\n",
    "(2)它们彼此正交(垂直)\n",
    "\n",
    "(3)它们捕获数据中最大的变化量。"
   ]
  },
  {
   "attachments": {},
   "cell_type": "markdown",
   "metadata": {},
   "source": [
    "我们将数据集中的特征选取出来，并取数据集的前1000行"
   ]
  },
  {
   "cell_type": "code",
   "execution_count": 22,
   "metadata": {},
   "outputs": [
    {
     "data": {
      "text/plain": [
       "array([[-157.,    0.,    1., ...,    0.,    0.,    0.],\n",
       "       [-101.,  135.,    1., ...,    0.,    0.,    0.],\n",
       "       [ 138.,  175.,    1., ...,    0.,    0.,    0.],\n",
       "       ...,\n",
       "       [-134.,  166.,    4., ...,    0.,    0.,    0.],\n",
       "       [  31.,  267.,    4., ...,    0.,    0.,    0.],\n",
       "       [   1.,   72.,    4., ...,    0.,    0.,    0.]])"
      ]
     },
     "execution_count": 22,
     "metadata": {},
     "output_type": "execute_result"
    }
   ],
   "source": [
    "x=data.iloc[:,:-1].values\n",
    "x"
   ]
  },
  {
   "cell_type": "code",
   "execution_count": 23,
   "metadata": {},
   "outputs": [
    {
     "name": "stdout",
     "output_type": "stream",
     "text": [
      "[0. 1. 0. 1. 0. 1. 1. 0. 0. 1. 1. 0. 0. 0. 1. 0. 0. 0. 1. 1. 1. 0. 0. 0.\n",
      " 0. 0. 1. 0. 1. 1. 0. 1. 1. 0. 1. 0. 1. 1. 0. 0. 0. 0. 0. 1. 1. 1. 0. 1.\n",
      " 0. 0. 1. 0. 1. 1. 1. 1. 0. 0. 1. 0. 0. 0. 1. 0. 0. 0. 1. 1. 1. 1. 1. 1.\n",
      " 0. 0. 1. 1. 0. 1. 0. 0. 1. 1. 0. 0. 0. 0. 0. 1. 0. 0. 0. 0. 0. 0. 1. 1.\n",
      " 0. 1. 1. 1. 1. 1. 1. 0. 0. 0. 1. 0. 0. 0. 0. 0. 1. 1. 0. 0. 1. 1. 1. 0.\n",
      " 0. 1. 0. 0. 0. 0. 1. 1. 1. 1. 0. 1. 0. 0. 0. 0. 1. 0. 1. 1. 0. 0. 0. 0.\n",
      " 0. 0. 0. 0. 1. 1. 0. 1. 1. 0. 0. 0. 1. 0. 1. 1. 0. 0. 0. 1. 1. 1. 1. 0.\n",
      " 1. 1. 0. 0. 0. 1. 0. 1. 0. 0. 1. 1. 0. 1. 0. 1. 0. 0. 0. 0. 0. 1. 0. 0.\n",
      " 1. 0. 0. 1. 0. 1. 1. 1. 1. 1. 1. 1. 1. 1. 0. 0. 0. 1. 1. 0. 1. 1. 1. 1.\n",
      " 0. 1. 0. 1. 0. 1. 1. 0. 1. 1. 1. 0. 1. 0. 1. 1. 1. 1. 1. 1. 0. 0. 1. 0.\n",
      " 1. 0. 1. 1. 1. 1. 0. 0. 0. 1. 1. 0. 0. 0. 0. 1. 0. 0. 1. 0. 0. 0. 1. 1.\n",
      " 0. 0. 1. 0. 0. 0. 0. 0. 1. 0. 1. 1. 1. 0. 1. 0. 1. 0. 1. 0. 0. 0. 0. 1.\n",
      " 1. 0. 0. 1. 1. 0. 1. 1. 0. 1. 1. 1. 1. 0. 1. 0. 1. 1. 0. 1. 0. 1. 1. 0.\n",
      " 0. 0. 0. 1. 0. 1. 0. 1. 0. 1. 1. 0. 1. 0. 1. 1. 1. 1. 1. 1. 0. 0. 0. 0.\n",
      " 1. 1. 0. 1. 0. 0. 0. 0. 0. 1. 1. 1. 1. 0. 0. 1. 1. 1. 1. 1. 0. 0. 1. 0.\n",
      " 0. 1. 0. 1. 1. 0. 0. 0. 1. 1. 0. 1. 0. 1. 1. 0. 0. 1. 0. 0. 0. 1. 1. 1.\n",
      " 1. 0. 1. 0. 0. 1. 1. 0. 1. 1. 0. 1. 0. 0. 0. 1. 1. 0. 0. 0. 0. 0. 0. 1.\n",
      " 0. 1. 1. 1. 0. 1. 0. 1. 1. 1. 1. 1. 0. 1. 0. 0. 0. 0. 0. 0. 0. 1. 0. 0.\n",
      " 0. 1. 1. 0. 1. 0. 0. 1. 0. 0. 0. 0. 1. 1. 0. 1. 0. 0. 0. 0. 0. 0. 1. 1.\n",
      " 0. 1. 1. 0. 1. 0. 1. 1. 0. 0. 0. 0. 0. 1. 0. 1. 1. 1. 0. 1. 0. 0. 0. 0.\n",
      " 1. 1. 0. 0. 1. 1. 0. 0. 0. 1. 1. 0. 1. 1. 1. 0. 1. 1. 0. 0. 0. 1. 1. 0.\n",
      " 1. 1. 0. 1. 0. 1. 0. 0. 0. 0. 1. 0. 0. 1. 1. 1. 0. 0. 1. 0. 1. 0. 0. 1.\n",
      " 1. 0. 1. 0. 1. 0. 0. 0. 1. 1. 1. 1. 1. 1. 1. 1. 0. 1. 0. 1. 1. 0. 0. 1.\n",
      " 1. 1. 1. 1. 1. 0. 1. 1. 1. 1. 1. 0. 1. 1. 0. 0. 1. 0. 0. 1. 1. 0. 1. 0.\n",
      " 0. 1. 1. 1. 0. 1. 0. 1. 0. 0. 0. 0. 1. 0. 0. 1. 1. 0. 0. 1. 1. 1. 1. 0.\n",
      " 1. 0. 1. 1. 1. 1. 0. 0. 1. 1. 0. 1. 0. 0. 1. 1. 1. 0. 0. 0. 0. 0. 1. 0.\n",
      " 0. 0. 1. 0. 1. 1. 0. 1. 1. 0. 0. 1. 1. 1. 1. 0. 0. 1. 1. 1. 1. 0. 0. 0.\n",
      " 1. 0. 1. 1. 1. 1. 0. 0. 0. 0. 0. 1. 0. 0. 0. 1. 1. 0. 0. 1. 0. 0. 1. 0.\n",
      " 1. 0. 0. 0. 1. 1. 0. 0. 0. 1. 1. 1. 1. 0. 0. 0. 0. 1. 1. 0. 0. 1. 0. 0.\n",
      " 0. 0. 1. 1. 1. 0. 1. 1. 0. 0. 1. 0. 0. 0. 0. 1. 1. 0. 1. 0. 0. 1. 0. 0.\n",
      " 0. 1. 1. 0. 1. 0. 1. 0. 1. 1. 0. 0. 1. 0. 1. 1. 1. 1. 0. 0. 1. 0. 1. 1.\n",
      " 1. 1. 0. 0. 0. 1. 1. 0. 1. 0. 0. 0. 0. 0. 0. 0. 1. 1. 0. 0. 0. 0. 0. 0.\n",
      " 0. 0. 0. 1. 1. 0. 0. 0. 0. 0. 1. 1. 1. 1. 0. 1. 0. 0. 1. 1. 1. 0. 0. 1.\n",
      " 0. 0. 0. 0. 1. 0. 1. 0. 1. 1. 0. 0. 1. 1. 1. 0. 1. 1. 0. 1. 0. 0. 1. 0.\n",
      " 0. 0. 0. 1. 0. 1. 1. 0. 0. 0. 1. 0. 1. 0. 0. 0. 0. 0. 0. 0. 0. 1. 1. 0.\n",
      " 1. 1. 0. 1. 0. 1. 1. 0. 0. 1. 1. 1. 1. 1. 0. 0. 0. 0. 1. 1. 1. 0. 0. 0.\n",
      " 1. 1. 0. 0. 0. 1. 0. 0. 0. 0. 1. 0. 0. 1. 0. 1. 0. 0. 0. 1. 0. 0. 0. 0.\n",
      " 1. 0. 1. 1. 0. 1. 0. 1. 0. 1. 1. 1. 1. 0. 0. 1. 0. 1. 0. 0. 1. 0. 0. 1.\n",
      " 1. 1. 0. 1. 0. 1. 0. 1. 0. 1. 1. 1. 1. 1. 0. 0. 0. 0. 0. 1. 0. 1. 1. 0.\n",
      " 1. 1. 0. 1. 0. 1. 0. 0. 1. 0. 1. 0. 1. 0. 0. 0. 0. 0. 1. 1. 1. 0. 0. 1.\n",
      " 0. 1. 1. 0. 0. 1. 1. 0. 0. 0. 1. 0. 0. 0. 1. 0. 0. 0. 0. 1. 1. 0. 0. 1.\n",
      " 0. 0. 0. 0. 1. 0. 1. 1. 1. 0. 1. 1. 0. 0. 1. 1.]\n"
     ]
    }
   ],
   "source": [
    "data_features = data.drop('shot_made_flag', axis=1)\n",
    "# data_features = data_features[:1000]\n",
    "data_label=data[:1000]['shot_made_flag']\n",
    "data_label = data_label.values\n",
    "print(data_label)"
   ]
  },
  {
   "cell_type": "code",
   "execution_count": 24,
   "metadata": {},
   "outputs": [
    {
     "name": "stdout",
     "output_type": "stream",
     "text": [
      "(25694, 73)\n"
     ]
    }
   ],
   "source": [
    "# 将DataFrame转化为ndarray类型\n",
    "data_features = data_features.astype(np.float32)\n",
    "data_features=data_features.values\n",
    "print(data_features.shape)"
   ]
  },
  {
   "cell_type": "code",
   "execution_count": 25,
   "metadata": {},
   "outputs": [],
   "source": [
    "def pca(data,left_dim=100):\n",
    "    #data is (n_samples x n_features) ndarray or matrix\n",
    "    #left_dim is the dimension we reduce to.\n",
    "    n_samples,n_features = data.shape\n",
    "    mean_vector = np.mean(data,axis=0)\n",
    "    normal_data = data - mean_vector\n",
    "    Covmatrix= np.cov(normal_data,rowvar=0)\n",
    "    eig_val,eig_vec = np.linalg.eig(Covmatrix)\n",
    "    # print(Covmatrix.shape)\n",
    "    # print(eig_vec.shape)\n",
    "    # print(eig_val.shape)\n",
    "    eig_val=sorted(eig_val)[::-1]\n",
    "    eigIndex = np.argsort(eig_val)\n",
    "    eigIndex = eigIndex[-1:-(left_dim+1):-1]\n",
    "    eig_face = eig_vec[:,eigIndex]\n",
    "    new_data = normal_data.dot(eig_face)\n",
    "#     print(eig_val)\n",
    "    #new_data is the data after reducing dimension\n",
    "    #eig_face is column vector [v1,v2....vk] k is the left_dim and the eigenvalue of v1 is bigger than that of v2.\n",
    "    #the eigenvalue of v2 is bigger than that of v3......and so on.\n",
    "    return eig_face,new_data,eig_val"
   ]
  },
  {
   "cell_type": "code",
   "execution_count": 26,
   "metadata": {
    "scrolled": true
   },
   "outputs": [
    {
     "name": "stdout",
     "output_type": "stream",
     "text": [
      "43457.13915949737\n",
      "12122.896469268399\n",
      "7760.544168882835\n",
      "29.096247257486414\n",
      "1.3208996144621368\n",
      "0.244500501779098\n",
      "0.14145806178185985\n",
      "0.13718237630574504\n",
      "0.12038992737526072\n",
      "0.09405864533987482\n",
      "0.07713141582477562\n",
      "0.07617858466270859\n",
      "0.07241703912837787\n",
      "0.07187245955985908\n",
      "0.07007674096439231\n",
      "0.06527990417364307\n",
      "0.06415271320963634\n",
      "0.06206946014123418\n",
      "0.06195400395127534\n",
      "0.059344104820251625\n",
      "0.0585232691341931\n",
      "0.05694895101494334\n",
      "0.054145071705877\n",
      "0.05291068916054996\n",
      "0.05149941346786447\n",
      "0.050897566725101595\n",
      "0.05012805184356435\n",
      "0.049333042956158646\n",
      "0.047709053224696575\n",
      "0.04674005303240272\n",
      "0.045354667816192275\n",
      "0.04410598848930224\n",
      "0.04271313456330876\n",
      "0.04160429813410733\n",
      "0.03968672306234275\n",
      "0.036457704970724064\n",
      "0.03601367736396733\n",
      "0.032089240677174544\n",
      "0.031581397237553564\n",
      "0.03014964664169506\n",
      "0.028045952528078292\n",
      "0.025303280328239416\n",
      "0.024345923746428473\n",
      "0.022949289900423806\n",
      "0.022887362887790703\n",
      "0.022481618851253826\n",
      "0.021958795374329876\n",
      "0.021452150094940378\n",
      "0.020756925057689377\n",
      "0.02001793895882081\n",
      "0.019950694253458353\n",
      "0.019835975217687055\n",
      "0.01943204141294303\n",
      "0.019375870713955887\n",
      "0.019175254771999387\n",
      "0.017623469406722415\n",
      "0.0170637278472709\n",
      "0.01631213039536562\n",
      "0.015932395395990808\n",
      "0.015293374513202892\n",
      "0.010701429687765506\n",
      "0.009821369094389102\n",
      "0.007618823563815922\n",
      "0.005358263376257419\n",
      "0.004722969454030714\n",
      "0.002565202407540739\n",
      "0.0023631375439579017\n",
      "0.001761697765189757\n",
      "2.37980759776855e-16\n",
      "1.1061025290876227e-16\n",
      "1.101422049850246e-17\n",
      "-3.2200687486907537e-16\n",
      "-5.283084772617155e-16\n"
     ]
    }
   ],
   "source": [
    "eig_face_2,new_date_2,eig_val_2=pca(data_features,left_dim=4)\n",
    "for i in eig_val_2:\n",
    "    print(i)\n",
    "# print(mean_vector_2)"
   ]
  },
  {
   "cell_type": "code",
   "execution_count": 27,
   "metadata": {},
   "outputs": [
    {
     "data": {
      "image/png": "[encoded data removed]",
      "text/plain": [
       "<Figure size 432x288 with 1 Axes>"
      ]
     },
     "metadata": {
      "needs_background": "light"
     },
     "output_type": "display_data"
    }
   ],
   "source": [
    "# 同样的数据绘制散点图和折线图\n",
    "plt.scatter(range(1, data_features.shape[1] + 1), eig_val_2)\n",
    "plt.plot(range(1, data_features.shape[1] + 1), eig_val_2)\n",
    " \n",
    "# 显示图的标题和xy轴的名字\n",
    "# 最好使用英文，中文可能乱码\n",
    "# plt.title(\"Scree Plot\")  \n",
    "plt.xlabel(\"the number of Eigenvalues\")\n",
    "plt.ylabel(\"Eigenvalue\")\n",
    " \n",
    "plt.grid()  # 显示网格\n",
    "plt.show()  # 显示图形"
   ]
  },
  {
   "cell_type": "markdown",
   "metadata": {},
   "source": [
    "求特征值的贡献度"
   ]
  },
  {
   "cell_type": "code",
   "execution_count": 28,
   "metadata": {},
   "outputs": [
    {
     "data": {
      "text/plain": [
       "array([ 6.85727550e-01,  1.91292024e-01,  1.22456725e-01,  4.59121303e-04,\n",
       "        2.08430024e-05,  3.85807104e-06,  2.23212324e-06,  2.16465549e-06,\n",
       "        1.89968073e-06,  1.48418892e-06,  1.21708741e-06,  1.20205230e-06,\n",
       "        1.14269737e-06,  1.13410424e-06,  1.10576888e-06,  1.03007767e-06,\n",
       "        1.01229128e-06,  9.79418794e-07,  9.77596965e-07,  9.36414325e-07,\n",
       "        9.23462031e-07,  8.98620236e-07,  8.54376705e-07,  8.34898890e-07,\n",
       "        8.12629808e-07,  8.03133027e-07,  7.90990545e-07,  7.78445782e-07,\n",
       "        7.52820200e-07,  7.37529959e-07,  7.15669412e-07,  6.95966003e-07,\n",
       "        6.73987605e-07,  6.56490832e-07,  6.26232649e-07,  5.75280683e-07,\n",
       "        5.68274194e-07,  5.06348941e-07,  4.98335477e-07,  4.75743312e-07,\n",
       "        4.42548283e-07,  3.99270563e-07,  3.84164052e-07,  3.62126008e-07,\n",
       "        3.61148837e-07,  3.54746440e-07,  3.46496600e-07,  3.38502042e-07,\n",
       "        3.27531808e-07,  3.15871051e-07,  3.14809970e-07,  3.12999773e-07,\n",
       "        3.06625940e-07,  3.05739600e-07,  3.02574001e-07,  2.78087760e-07,\n",
       "        2.69255375e-07,  2.57395619e-07,  2.51403628e-07,  2.41320263e-07,\n",
       "        1.68862132e-07,  1.54975304e-07,  1.20220459e-07,  8.45501772e-08,\n",
       "        7.45256208e-08,  4.04773530e-08,  3.72888908e-08,  2.77985324e-08,\n",
       "        3.75519343e-21,  1.74536334e-21,  1.73797783e-22, -5.08107505e-21,\n",
       "       -8.33639040e-21])"
      ]
     },
     "execution_count": 28,
     "metadata": {},
     "output_type": "execute_result"
    }
   ],
   "source": [
    "gx = eig_val_2/np.sum(eig_val_2)\n",
    "gx"
   ]
  },
  {
   "cell_type": "markdown",
   "metadata": {},
   "source": [
    "求特征值的累计贡献度"
   ]
  },
  {
   "cell_type": "code",
   "execution_count": 29,
   "metadata": {},
   "outputs": [
    {
     "data": {
      "text/plain": [
       "array([0.68572755, 0.87701957, 0.9994763 , 0.99993542, 0.99995626,\n",
       "       0.99996012, 0.99996235, 0.99996452, 0.99996642, 0.9999679 ,\n",
       "       0.99996912, 0.99997032, 0.99997146, 0.9999726 , 0.9999737 ,\n",
       "       0.99997473, 0.99997575, 0.99997673, 0.9999777 , 0.99997864,\n",
       "       0.99997956, 0.99998046, 0.99998132, 0.99998215, 0.99998296,\n",
       "       0.99998377, 0.99998456, 0.99998534, 0.99998609, 0.99998683,\n",
       "       0.99998754, 0.99998824, 0.99998891, 0.99998957, 0.99999019,\n",
       "       0.99999077, 0.99999134, 0.99999184, 0.99999234, 0.99999282,\n",
       "       0.99999326, 0.99999366, 0.99999404, 0.99999441, 0.99999477,\n",
       "       0.99999512, 0.99999547, 0.99999581, 0.99999614, 0.99999645,\n",
       "       0.99999677, 0.99999708, 0.99999739, 0.99999769, 0.99999799,\n",
       "       0.99999827, 0.99999854, 0.9999988 , 0.99999905, 0.99999929,\n",
       "       0.99999946, 0.99999962, 0.99999974, 0.99999982, 0.99999989,\n",
       "       0.99999993, 0.99999997, 1.        , 1.        , 1.        ,\n",
       "       1.        , 1.        , 1.        ])"
      ]
     },
     "execution_count": 29,
     "metadata": {},
     "output_type": "execute_result"
    }
   ],
   "source": [
    "lg = np.cumsum(gx)\n",
    "lg"
   ]
  },
  {
   "cell_type": "code",
   "execution_count": 30,
   "metadata": {},
   "outputs": [
    {
     "name": "stdout",
     "output_type": "stream",
     "text": [
      "[0]\n"
     ]
    }
   ],
   "source": [
    "#选出主成分\n",
    "k=[i for i in range(len(lg)) if lg[i]<0.85]\n",
    "k = list(k)\n",
    "print(k)"
   ]
  },
  {
   "cell_type": "code",
   "execution_count": 31,
   "metadata": {},
   "outputs": [
    {
     "data": {
      "text/plain": [
       "matrix([[-5.14053303e-03],\n",
       "        [ 4.21044842e-02],\n",
       "        [ 2.58717180e-04],\n",
       "        [-1.51602341e-05],\n",
       "        [ 3.73364528e-03],\n",
       "        [-9.99092902e-01],\n",
       "        [ 1.05417947e-07],\n",
       "        [-9.44745150e-07],\n",
       "        [-2.66642437e-06],\n",
       "        [ 1.73441223e-05],\n",
       "        [-1.59503960e-05],\n",
       "        [ 2.11202543e-06],\n",
       "        [-1.51537604e-05],\n",
       "        [-1.30845127e-05],\n",
       "        [ 3.42939653e-06],\n",
       "        [-2.73944151e-05],\n",
       "        [-2.25102255e-05],\n",
       "        [-8.78437492e-06],\n",
       "        [ 7.13378702e-06],\n",
       "        [-6.35382366e-06],\n",
       "        [-7.42800834e-06],\n",
       "        [ 1.92664555e-05],\n",
       "        [-1.90284478e-06],\n",
       "        [ 1.23963807e-05],\n",
       "        [ 3.64412883e-05],\n",
       "        [ 3.09224539e-05],\n",
       "        [ 1.56906829e-07],\n",
       "        [ 1.52892663e-05],\n",
       "        [-2.89764446e-05],\n",
       "        [ 1.67932484e-06],\n",
       "        [ 2.10010896e-05],\n",
       "        [-1.61279408e-05],\n",
       "        [-2.61339043e-04],\n",
       "        [ 2.61339051e-04],\n",
       "        [ 2.18364228e-05],\n",
       "        [ 1.86497644e-06],\n",
       "        [ 4.72120090e-05],\n",
       "        [-4.87324162e-05],\n",
       "        [ 2.87145185e-05],\n",
       "        [-5.08955119e-05],\n",
       "        [ 4.94150206e-06],\n",
       "        [ 9.40404451e-07],\n",
       "        [ 3.56431661e-06],\n",
       "        [ 2.16600353e-06],\n",
       "        [-1.49589384e-06],\n",
       "        [ 7.13558121e-07],\n",
       "        [ 1.03035469e-05],\n",
       "        [ 4.90490658e-06],\n",
       "        [-4.13923772e-06],\n",
       "        [ 9.18044561e-07],\n",
       "        [-5.36938140e-06],\n",
       "        [ 7.80839766e-06],\n",
       "        [-6.80800795e-06],\n",
       "        [ 7.35238307e-07],\n",
       "        [-1.61324407e-06],\n",
       "        [-1.06398682e-07],\n",
       "        [-1.14940615e-05],\n",
       "        [ 8.77967125e-07],\n",
       "        [ 2.23769906e-06],\n",
       "        [-1.16934458e-06],\n",
       "        [-3.48144411e-06],\n",
       "        [ 5.03949567e-06],\n",
       "        [ 6.28416741e-07],\n",
       "        [-6.21252975e-06],\n",
       "        [ 7.64791852e-06],\n",
       "        [ 1.34156040e-06],\n",
       "        [-3.92924281e-06],\n",
       "        [-1.86159569e-05],\n",
       "        [-5.57808299e-06],\n",
       "        [ 6.96168490e-06],\n",
       "        [ 4.21565892e-06],\n",
       "        [ 1.39566134e-06],\n",
       "        [ 2.67084472e-06]])"
      ]
     },
     "execution_count": 31,
     "metadata": {},
     "output_type": "execute_result"
    }
   ],
   "source": [
    "selectVec = np.matrix(eig_face_2.T[k]).T\n",
    "selectVe=selectVec*(-1)\n",
    "selectVec"
   ]
  },
  {
   "cell_type": "markdown",
   "metadata": {},
   "source": [
    "## 特征构建\n",
    "\n",
    "特征构建是指从原始特征中人工构建新的特征。\n",
    "特征构建需要很强的洞察力和分析能力，要求我们能够从原始数据中找出一些具有物理意义的特征。\n",
    "假设原始数据是表格数据，可以使用混合属性或者组合属性来创建新的特征，或是分解或切分原有的特征来创建新的特征。\n",
    "\n",
    "1. 特征选择\n",
    "\n",
    "特征选择指根据一定的规则和经验，直接在原有的维度中挑选一部分参与到计算和建模过程，用选择的特征代替所有特征，不改变原有特征，也不产生新的特征值。\n",
    "\n",
    "特征选择的降维方式好处是可以保留原有维度特征的基础上进行降维，既能满足后续数据处理和建模需求，又能保留维度原本的业务含义，以便于业务理解和应用。对于业务分析性的应用而言，模型的可理解性和可用性很多时候要有限于模型本身的准确率、效率等技术指标。例如，决策树得到的特征规则，可以作为选择用户样本的基础条件，而这些特征规则便是基于输入的维度产生。\n",
    "\n",
    "2. 维度转换\n",
    "\n",
    "按照一定数学变换方法，把给定的一组相关变量（维度）通过数学模型将高纬度空间的数据点映射到低纬度空间中，然后利用映射后变量的特征来表示原有变量的总体特征。这种方式是一种产生新维度的过程，转换后的维度并非原来特征，而是之前特征的转化后的表达式，新的特征丢失了原有数据的业务含义。这种降维方法分为线性降维和非线性降维两种：\n",
    "- 线性降维方法主要有核主成分分析（Kernel PCA），线性判别分析（Latent Dirichlet Allocation，LDA）。\n",
    "- 非线性降维方法主要有独立成分分析（Independent Component Correlation Algorithm，ICA），主成分分析（Principal components analysis，PCA），因子分析（Factor Analysis，FA），局部线性嵌入（Locally Linear Embedding，LLE）等多种方法。\n"
   ]
  },
  {
   "cell_type": "markdown",
   "metadata": {},
   "source": [
    "抽样是一种常用的方法，用于(1)简化用于探索性数据分析的数据，并将算法扩展到大数据应用\n",
    "(2)量化由于数据分布变化而产生的不确定性。 数据抽样有多种方法，例如不替换抽样(即从数据集中删除每个选定的实例)和替换抽样(即不删除每个选定的实例，从而允许它在样本中被选中多次)。  "
   ]
  },
  {
   "cell_type": "markdown",
   "metadata": {},
   "source": [
    "References\n",
    "\n",
    "https://blog.csdn.net/qq_25990967/article/details/121366143"
   ]
  }
 ],
 "metadata": {
  "kernelspec": {
   "display_name": "Python 3 (ipykernel)",
   "language": "python",
   "name": "python3"
  },
  "language_info": {
   "codemirror_mode": {
    "name": "ipython",
    "version": 3
   },
   "file_extension": ".py",
   "mimetype": "text/x-python",
   "name": "python",
   "nbconvert_exporter": "python",
   "pygments_lexer": "ipython3",
   "version": "3.7.9"
  },
  "vscode": {
   "interpreter": {
    "hash": "1a3f677a77b69d4794d31f44cefe23a57cb8094311290e7ebc8599ef847ede09"
   }
  }
 },
 "nbformat": 4,
 "nbformat_minor": 2
}
